{
 "cells": [
  {
   "cell_type": "markdown",
   "metadata": {},
   "source": [
    "# Regular Expressions"
   ]
  },
  {
   "cell_type": "markdown",
   "metadata": {},
   "source": [
    "# Tasks today:\n",
    "1) <b>Importing</b> <br>\n",
    "2) <b>Using Regular Expressions</b> <br>\n",
    " &nbsp;&nbsp;&nbsp;&nbsp; a) re.compile() <br>\n",
    " &nbsp;&nbsp;&nbsp;&nbsp; b) re.match() <br>\n",
    " &nbsp;&nbsp;&nbsp;&nbsp; c) re.findall() <br>\n",
    " &nbsp;&nbsp;&nbsp;&nbsp; d) re.search() <br>\n",
    "3) <b>Sets</b> <br>\n",
    " &nbsp;&nbsp;&nbsp;&nbsp; a) Integer Ranges <br>\n",
    " &nbsp;&nbsp;&nbsp;&nbsp; b) Character Ranges <br>\n",
    "4) <b>Counting Occurences</b> <br>\n",
    " &nbsp;&nbsp;&nbsp;&nbsp; a) {x} <br>\n",
    " &nbsp;&nbsp;&nbsp;&nbsp; b) {, x} <br>\n",
    " &nbsp;&nbsp;&nbsp;&nbsp; c) {?} <br>\n",
    " &nbsp;&nbsp;&nbsp;&nbsp; d) {*} <br>\n",
    " &nbsp;&nbsp;&nbsp;&nbsp; e) {+} <br>\n",
    "5) <b>In-Class Exercise #1</b> <br>\n",
    "6) <b>Escaping Characters</b> <br>\n",
    "7) <b>Grouping</b> <br>\n",
    "8) <b>In-Class Exercise #2</b> <br>\n",
    "9) <b>Opening a File</b> <br>\n",
    " &nbsp;&nbsp;&nbsp;&nbsp; a) open() <br>\n",
    " &nbsp;&nbsp;&nbsp;&nbsp; b) with open() <br>\n",
    " &nbsp;&nbsp;&nbsp;&nbsp; c) re.match() <br>\n",
    " &nbsp;&nbsp;&nbsp;&nbsp; d) re.search() <br>\n",
    " &nbsp;&nbsp;&nbsp;&nbsp; e) Store the String in a Variable <br>\n",
    "10) <b>Regex Project</b> <br>"
   ]
  },
  {
   "cell_type": "markdown",
   "metadata": {},
   "source": [
    "### Importing <br>\n",
    "<p>Regular Expressions are universal throughout most programming languages... They are generally imported through the module 're'.</p>"
   ]
  },
  {
   "cell_type": "code",
   "execution_count": 12,
   "metadata": {},
   "outputs": [],
   "source": [
    "# import re\n",
    "import re"
   ]
  },
  {
   "cell_type": "markdown",
   "metadata": {},
   "source": [
    "### Using Regular Expressions <br>\n",
    "<p>Regular expressions give us the ability to search for patterns within text, strings, files, etc. They serve several uses, such as; security measures, searching, filtering, pattern recognition, and more...</p>"
   ]
  },
  {
   "cell_type": "markdown",
   "metadata": {},
   "source": [
    "##### re.compile()"
   ]
  },
  {
   "cell_type": "code",
   "execution_count": 2,
   "metadata": {},
   "outputs": [],
   "source": [
    "# determine the string to be used in a regular expression\n",
    "pattern = re.compile(\"abcd\")"
   ]
  },
  {
   "cell_type": "markdown",
   "metadata": {},
   "source": [
    "##### re.match()"
   ]
  },
  {
   "cell_type": "code",
   "execution_count": 6,
   "metadata": {},
   "outputs": [
    {
     "name": "stdout",
     "output_type": "stream",
     "text": [
      "<re.Match object; span=(0, 4), match='abcd'>\n",
      "(0, 4)\n",
      "None\n"
     ]
    }
   ],
   "source": [
    "#return the very first match, if it doesn't immediately find a match it will stop\n",
    "match = pattern.match(\"abcd123\")\n",
    "print(match)\n",
    "\n",
    "#accessing the span of the match\n",
    "#the starting and stopping index of the match in the match string\n",
    "print(match.span())\n",
    "\n",
    "#if match deosn't find a match it will immediately stop searching\n",
    "match2 = pattern.match(\"123abcd\")\n",
    "print(match2)"
   ]
  },
  {
   "cell_type": "code",
   "execution_count": null,
   "metadata": {},
   "outputs": [],
   "source": [
    "my_list = [\"123\", \"abcd\", \"abdc\", \"abc\"]"
   ]
  },
  {
   "cell_type": "markdown",
   "metadata": {},
   "source": [
    "##### re.findall()"
   ]
  },
  {
   "cell_type": "code",
   "execution_count": 7,
   "metadata": {},
   "outputs": [
    {
     "name": "stdout",
     "output_type": "stream",
     "text": [
      "['abcd', 'abcd', 'abcd']\n"
     ]
    }
   ],
   "source": [
    "# returns a list of all matches in a string\n",
    "pattern = re.compile(\"abcd\")\n",
    "finders = pattern.findall(\"123abcd abcd123 abcabc acb acab 1abcd23\")\n",
    "print(finders)"
   ]
  },
  {
   "cell_type": "markdown",
   "metadata": {},
   "source": [
    "##### re.search()"
   ]
  },
  {
   "cell_type": "code",
   "execution_count": 8,
   "metadata": {},
   "outputs": [
    {
     "name": "stdout",
     "output_type": "stream",
     "text": [
      "Help on function search in module re:\n",
      "\n",
      "search(pattern, string, flags=0)\n",
      "    Scan through string looking for a match to the pattern, returning\n",
      "    a Match object, or None if no match was found.\n",
      "\n",
      "<re.Match object; span=(17, 21), match='abcd'>\n"
     ]
    }
   ],
   "source": [
    "help(re.search)\n",
    "pattern = re.compile(\"abcd\")\n",
    "\n",
    "random_string = \"123 123 1234 324 abcd abcd\"\n",
    "\n",
    "search_result = pattern.search(random_string)\n",
    "\n",
    "print(search_result)"
   ]
  },
  {
   "cell_type": "markdown",
   "metadata": {},
   "source": [
    "### Sets <br>\n",
    "<p>The following cells will allow you to use regular expressions to search for certain values within a range such as numbers 1 through 4.</p>"
   ]
  },
  {
   "cell_type": "markdown",
   "metadata": {},
   "source": [
    "##### [a-z] or [A-Z] - any lowercase/uppercase letters from a to z<br/>[^2] - anything that's not 2"
   ]
  },
  {
   "cell_type": "markdown",
   "metadata": {},
   "source": [
    "##### Integer Ranges"
   ]
  },
  {
   "cell_type": "code",
   "execution_count": 11,
   "metadata": {},
   "outputs": [
    {
     "name": "stdout",
     "output_type": "stream",
     "text": [
      "<re.Match object; span=(0, 3), match='673'>\n",
      "<re.Match object; span=(3, 6), match='582'>\n"
     ]
    }
   ],
   "source": [
    "pattern_int = re.compile(\"[0-7][7-9][0-3]\")\n",
    "random_numbers = pattern_int.search(\"67383\")\n",
    "print(random_numbers)\n",
    "\n",
    "random_numbers2 = pattern_int.search(\"652582\")\n",
    "print(random_numbers2)"
   ]
  },
  {
   "cell_type": "markdown",
   "metadata": {},
   "source": [
    "##### Character Ranges"
   ]
  },
  {
   "cell_type": "code",
   "execution_count": 72,
   "metadata": {},
   "outputs": [
    {
     "name": "stdout",
     "output_type": "stream",
     "text": [
      "['Ther', 'Alex', 'Ryan', 'Juan', 'Juan']\n"
     ]
    }
   ],
   "source": [
    "char_pattern = re.compile(\"[A-Z][a-z][a-z][a-z]\")\n",
    "\n",
    "found = char_pattern.findall(\"There are a few people in this class with four letter names. One of them is Alex, another is Ryan, another is Juan, sorry Juan\")\n",
    "print(found)"
   ]
  },
  {
   "cell_type": "markdown",
   "metadata": {},
   "source": [
    "### Counting Occurences"
   ]
  },
  {
   "cell_type": "markdown",
   "metadata": {},
   "source": [
    "##### {x} - something that occurs {num_of_times}"
   ]
  },
  {
   "cell_type": "code",
   "execution_count": 14,
   "metadata": {},
   "outputs": [
    {
     "name": "stdout",
     "output_type": "stream",
     "text": [
      "['BB8', 'PP4']\n"
     ]
    }
   ],
   "source": [
    "char_pattern_count  = re.compile(\"[A-Z]{2}[0-9]\")\n",
    "\n",
    "found_count = char_pattern_count.findall(\"BB8 is pretty cool but I have always perferred R2D2 and C3P0, if I had a droid I would name it, PP4\")\n",
    "print(found_count)"
   ]
  },
  {
   "cell_type": "markdown",
   "metadata": {},
   "source": [
    "##### {x, x} - something that occurs between x and x times"
   ]
  },
  {
   "cell_type": "code",
   "execution_count": 15,
   "metadata": {},
   "outputs": [
    {
     "name": "stdout",
     "output_type": "stream",
     "text": [
      "['m', 'm', 'm', 'mm', 'mmm', 'mmmm', 'mmmmm', 'mmmmm', 'mmmmm', 'mmmmm', 'mmmm', 'mm', 'mm', 'm', 'm']\n"
     ]
    }
   ],
   "source": [
    "random_pattern = re.compile(\"m{1,5}\")\n",
    "random_statement = random_pattern.findall(\"This is an example of trying to find some ms. We need a lot of mms and mmms and mmmms and mmmmms and mmmmmmmmmmsmmmmmsmmmmsmmsmmsmsms\")\n",
    "print(random_statement)"
   ]
  },
  {
   "cell_type": "code",
   "execution_count": 16,
   "metadata": {},
   "outputs": [
    {
     "name": "stdout",
     "output_type": "stream",
     "text": [
      "['1435', '5314', '3142', '135']\n"
     ]
    }
   ],
   "source": [
    "num_pattern = re.compile(\"[0-5]{1,4}\")\n",
    "num_string = \"14356531497631429713597\"\n",
    "num_match = num_pattern.findall(num_string)\n",
    "print(num_match)"
   ]
  },
  {
   "cell_type": "markdown",
   "metadata": {},
   "source": [
    "##### ? - something that occurs 0 or 1 time"
   ]
  },
  {
   "cell_type": "code",
   "execution_count": 17,
   "metadata": {},
   "outputs": [
    {
     "name": "stdout",
     "output_type": "stream",
     "text": [
      "['Hello', 'name', 'like', 'party', 'Andre', 'here']\n"
     ]
    }
   ],
   "source": [
    "#optional\n",
    "pattern = re.compile(\"[A-z]?[a-z]{4}\")\n",
    "found_pat = pattern.findall(\"Hello my name is Javi and I like to party. Also Andres is here\")\n",
    "print(found_pat)"
   ]
  },
  {
   "cell_type": "markdown",
   "metadata": {},
   "source": [
    "##### * - something that occurs at least 0 times"
   ]
  },
  {
   "cell_type": "code",
   "execution_count": 20,
   "metadata": {},
   "outputs": [
    {
     "name": "stdout",
     "output_type": "stream",
     "text": [
      "['Hello', 'I', 'General', 'Kenobi', 'Army', 'Republic']\n"
     ]
    }
   ],
   "source": [
    "# .* --> wild card will grab ANY character happening 0 to many times\n",
    "\n",
    "pattern = re.compile(\"[A-Z][a-z]*\")\n",
    "found_patt = pattern.findall(\"Hello there, I am General Kenobi, leader of the Army of the Republic\")\n",
    "print(found_patt)"
   ]
  },
  {
   "cell_type": "code",
   "execution_count": 25,
   "metadata": {},
   "outputs": [
    {
     "name": "stdout",
     "output_type": "stream",
     "text": [
      "['', '', '', '', '', '', '', '', '', '', '', '', '', '', '', '', '', '', '', '', '', '', '', '', '', '', '', '', '', '', '', '', '', '6308529209', '', '63043999808', '', '6309631821', '']\n"
     ]
    }
   ],
   "source": [
    "pattern = re.compile(\"[0-9]*\")\n",
    "found_pat = pattern.findall(\"This is a list of phone numbers: 6308529209 63043999808 6309631821\")\n",
    "print(found_pat) #this will also pull back any non number spaces or non\n",
    "\n"
   ]
  },
  {
   "cell_type": "markdown",
   "metadata": {},
   "source": [
    "##### + - something that occurs at least once"
   ]
  },
  {
   "cell_type": "code",
   "execution_count": 22,
   "metadata": {
    "scrolled": true
   },
   "outputs": [
    {
     "name": "stdout",
     "output_type": "stream",
     "text": [
      "['6308529209', '63043999808', '6309631821']\n"
     ]
    }
   ],
   "source": [
    "phone_number = re.compile(\"[0-9]+\")\n",
    "found_pat = phone_number.findall(\"This is a list of phone numbers: 6308529209 63043999808 6309631821\")\n",
    "print(found_pat)"
   ]
  },
  {
   "cell_type": "code",
   "execution_count": 23,
   "metadata": {},
   "outputs": [
    {
     "name": "stdout",
     "output_type": "stream",
     "text": [
      "['MMMs', 'Ms', 'Ms', 'MMMs', 'MMMs', 'MMMMs']\n"
     ]
    }
   ],
   "source": [
    "pattern = re.compile(\"M+s\")\n",
    "found_m = pattern.findall(\"MMMs naMe is Ms SMith. These are Ms MMMs MMMs MMMMs MMMr Me Mq MMt\")\n",
    "print(found_m)"
   ]
  },
  {
   "cell_type": "markdown",
   "metadata": {},
   "source": [
    "##### In-class exercise 1: \n",
    "\n",
    "Use a regular expression to find every number in the given string"
   ]
  },
  {
   "cell_type": "code",
   "execution_count": 45,
   "metadata": {},
   "outputs": [
    {
     "name": "stdout",
     "output_type": "stream",
     "text": [
      "['R2', 'D2', 'C3', 'P0', 'BB8']\n"
     ]
    }
   ],
   "source": [
    "# use a regular expression to find the driod names using a .findall\n",
    "droids = \"Here are some droid names: R2D2 is pretty cool and C3P0 is a nerd. BB8 is fine and there are other ones too that i cant think of.\"\n",
    "\n",
    "pattern = re.compile(\"[A-Z]+[0-9]+[A-Z]*[0-9]*\")\n",
    "found_droids = pattern.findall(droids)\n",
    "print(found_droids)"
   ]
  },
  {
   "cell_type": "markdown",
   "metadata": {},
   "source": [
    "### Escaping Characters"
   ]
  },
  {
   "cell_type": "markdown",
   "metadata": {},
   "source": [
    "##### \\w - look for any Unicode character<br/>\\W - look for anything that isnt a Unicode character\n",
    "\n",
    "[History on Unicode](http://unicode.org/standard/WhatIsUnicode.html)\n",
    "\n",
    "[More on Unicode Characters](https://en.wikipedia.org/wiki/List_of_Unicode_characters)"
   ]
  },
  {
   "cell_type": "code",
   "execution_count": 50,
   "metadata": {},
   "outputs": [
    {
     "name": "stdout",
     "output_type": "stream",
     "text": [
      "['This', 'is', 'a', 'sentence', 'With', 'an', 'excalamtion', 'point', 'at', 'the', 'end', 'Also', 'don', 't', 'forget', 'to', 'floss']\n",
      "\n",
      "\n",
      "[' ', ' ', ' ', '. ', ' ', ' ', ' ', ' ', ' ', ' ', '! ', ', ', \"'\", ' ', ' ', ' ', '.']\n"
     ]
    }
   ],
   "source": [
    "pattern = re.compile(\"[\\w]+\")\n",
    "pattern2 = re.compile(\"[\\W]+\")\n",
    "\n",
    "unicode_string = \"This is a sentence. With an excalamtion point at the end! Also, don't forget to floss.\"\n",
    "\n",
    "found_1 = pattern.findall(unicode_string)\n",
    "print(found_1)\n",
    "print(\"\\n\")\n",
    "found_2 = pattern2.findall(unicode_string)\n",
    "print(found_2)"
   ]
  },
  {
   "cell_type": "markdown",
   "metadata": {},
   "source": [
    "##### \\d - look for any digit 0-9<br/>\\D - look for anything that isnt a digit"
   ]
  },
  {
   "cell_type": "code",
   "execution_count": 52,
   "metadata": {},
   "outputs": [
    {
     "name": "stdout",
     "output_type": "stream",
     "text": [
      "['30', '31', '5', '3']\n"
     ]
    }
   ],
   "source": [
    "#similar to [0-9]\n",
    "pattern_nums = re.compile(r\"\\d{1,2}\")\n",
    "found_date = pattern_nums.findall(\"Today is the 30th tomorrow will be the 31st and in 5 days it will be the 3rd of November\")\n",
    "\n",
    "print(found_date)"
   ]
  },
  {
   "cell_type": "code",
   "execution_count": 53,
   "metadata": {},
   "outputs": [
    {
     "name": "stdout",
     "output_type": "stream",
     "text": [
      "['Today is the ', 'th tomorrow will be the ', 'st and in ', ' days it will be the ', 'rd of November']\n"
     ]
    }
   ],
   "source": [
    "#similar to [0-9]\n",
    "pattern_nonNums = re.compile(r\"\\D+\")\n",
    "found_nonNums = pattern_nonNums.findall(\"Today is the 30th tomorrow will be the 31st and in 5 days it will be the 3rd of November\")\n",
    "\n",
    "print(found_nonNums)"
   ]
  },
  {
   "cell_type": "markdown",
   "metadata": {},
   "source": [
    "##### \\s - look for any white space<br/>\\S - look for anything that isnt whitespace"
   ]
  },
  {
   "cell_type": "code",
   "execution_count": 55,
   "metadata": {},
   "outputs": [
    {
     "name": "stdout",
     "output_type": "stream",
     "text": [
      "['                  ', '           ', '            ', '      ', '   ']\n",
      "['Are', 'you', 'afraid', 'of', 'the', 'dark?']\n"
     ]
    }
   ],
   "source": [
    "space = re.compile(r\"\\s+\")\n",
    "no_space = re.compile(r\"\\S+\")\n",
    "\n",
    "found_space = space.findall(\"Are                  you           afraid            of      the   dark?\")\n",
    "print(found_space)\n",
    "\n",
    "found_space2 = no_space.findall(\"Are                  you           afraid            of      the   dark?\")\n",
    "print(found_space2)"
   ]
  },
  {
   "cell_type": "markdown",
   "metadata": {},
   "source": [
    "##### \\b - look for boundaries or edges of a word<br/>\\B - look for anything that isnt a boundary"
   ]
  },
  {
   "cell_type": "code",
   "execution_count": 75,
   "metadata": {},
   "outputs": [
    {
     "name": "stdout",
     "output_type": "stream",
     "text": [
      "[]\n",
      "['TheCodingTemple']\n"
     ]
    }
   ],
   "source": [
    "pattern_bound = re.compile(r\"\\bTheCodingTemple\\b\")\n",
    "\n",
    "pattern_noBound = re.compile(r\"\\BTheCodingTemple\\B\")\n",
    "\n",
    "found_bound = pattern_bound.findall(\"TheCodingTemple\")\n",
    "print(found_bound)\n",
    "\n",
    "found_noBound = pattern_noBound.findall(\"ddTheCodingTempledd\")\n",
    "print(found_noBound)"
   ]
  },
  {
   "cell_type": "markdown",
   "metadata": {},
   "source": [
    "### Grouping"
   ]
  },
  {
   "cell_type": "code",
   "execution_count": 67,
   "metadata": {},
   "outputs": [
    {
     "name": "stdout",
     "output_type": "stream",
     "text": [
      "[('Max', 'Smith'), ('Sam', 'Darnold'), ('LeBron', 'James'), ('Michael', 'Jordan'), ('Kevin', 'Durant'), ('Patrick', 'McCormick')]\n",
      "Max Smith\n",
      "Not a valid name\n",
      "Sam Darnold\n",
      "LeBron James\n",
      "Michael Jordan\n",
      "Kevin Durant\n",
      "Patrick McCormick\n"
     ]
    }
   ],
   "source": [
    "my_string = \"Max Smith, aaron Rodgers, Sam Darnold, LeBron James, Michael Jordan, Kevin Durant, Patrick McCormick\"\n",
    "\n",
    "#create our groups in our patterns\n",
    "pattern_name = re.compile(\"([A-Z][\\w]+) ([A-Z][\\w]+)\")\n",
    "\n",
    "found_names = pattern_name.findall(my_string)\n",
    "print(found_names)\n",
    "\n",
    "for name in my_string.split(\",\"):\n",
    "    match = pattern_name.search(name)\n",
    "    \n",
    "    if match:\n",
    "        print(match.groups(1))\n",
    "    else:\n",
    "        print(\"Not a valid name\")"
   ]
  },
  {
   "cell_type": "markdown",
   "metadata": {},
   "source": [
    "##### In-class Exercise 2:\n",
    "\n",
    "Write a function using regular expressions to find the domain name in the given email addresses (and return None for the invalid email addresses)<br><b>HINT: Use '|' for either or</b>"
   ]
  },
  {
   "cell_type": "code",
   "execution_count": 130,
   "metadata": {},
   "outputs": [
    {
     "name": "stdout",
     "output_type": "stream",
     "text": [
      "None\n",
      "pocohontas1776@gmail.com\n",
      "None\n",
      "yourfavoriteband@g6.org\n",
      "None\n",
      "[('pocohontas1776', 'gmail', '.com')]\n",
      "None\n",
      "pocohontas1776@gmail.com\n",
      "None\n",
      "yourfavoriteband@g6.org\n",
      "None\n"
     ]
    }
   ],
   "source": [
    "my_emails = [\"jordanw@codingtemple.orgcom\", \"pocohontas1776@gmail.com\", \"helloworld@aol..com\",\n",
    "             \"yourfavoriteband@g6.org\", \"@codingtemple.com\"]\n",
    "\n",
    "# You can also use the $ at the end of your compile expression -- this stops the search\n",
    "\n",
    "#.com OR .org => com|org\n",
    "\n",
    "#Expected output:\n",
    "#None\n",
    "#pocohontas1776@gmail.com\n",
    "#None\n",
    "#yourfavoriteband@g6.org\n",
    "#None\n",
    "\n",
    "pattern_email = re.compile(\"[\\w]+[\\W]+[\\w]+(.com|.org)$\")\n",
    "\n",
    "for name in my_emails:\n",
    "    if pattern_email.match(name):\n",
    "        print(name)\n",
    "    else:\n",
    "        print(\"None\")\n",
    "        \n",
    "\n",
    "email_pattern = re.compile(\"([a-z]+[0-9]*)@([\\w]+)(.com|.org)$\")\n",
    "found_email = email_pattern.findall(my_emails[1])\n",
    "print(found_email)\n",
    "\n",
    "for email in my_emails:\n",
    "    if email_pattern.match(email):\n",
    "        print(email)\n",
    "    else:\n",
    "        print(None)"
   ]
  },
  {
   "cell_type": "markdown",
   "metadata": {},
   "source": [
    "### Opening a File <br>\n",
    "<p>Python gives us a couple ways to import files, below are the two used most often.</p>"
   ]
  },
  {
   "cell_type": "markdown",
   "metadata": {},
   "source": [
    "##### open()"
   ]
  },
  {
   "cell_type": "code",
   "execution_count": 140,
   "metadata": {},
   "outputs": [
    {
     "name": "stdout",
     "output_type": "stream",
     "text": [
      "Hawkins, Derek\tderek@codingtemple.com\t(555) 555-5555\tTeacher, Coding Temple\t@derekhawkins\n",
      "Zhai, Mo\tmozhai@codingtemple.com\t(555) 555-5554\tTeacher, Coding Temple\n",
      "Johnson, Joe\tjoejohnson@codingtemple.com\t\tJohson, Joe\n",
      "Osterberg, Sven-Erik\tgovernor@norrbotten.co.se\t\tGovernor, Norrbotten\t@sverik\n",
      ", Tim\ttim@killerrabbit.com\t\tEnchanter, Killer Rabbit Cave\n",
      "Butz, Ryan\tryanb@codingtemple.com\t(555) 555-5543\tCEO, Coding Temple\t@ryanbutz\n",
      "Doctor, The\tdoctor+companion@tardis.co.uk\t\tTime Lord, Gallifrey\n",
      "Exampleson, Example\tme@example.com\t555-555-5552\tExample, Example Co.\t@example\n",
      "Pael, Ripal\tripalp@codingtemple.com\t(555) 555-5553\tTeacher, Coding Temple\t@ripalp\n",
      "Vader, Darth\tdarth-vader@empire.gov\t(555) 555-4444\tSith Lord, Galactic Empire\t@darthvader\n",
      "Fernandez de la Vega Sanz, Maria Teresa\tmtfvs@spain.gov\t\tFirst Deputy Prime Minister, Spanish Gov\n",
      "\n"
     ]
    }
   ],
   "source": [
    "f = open(\"names.txt\")\n",
    "\n",
    "data = f.read()\n",
    "\n",
    "print(data)\n"
   ]
  },
  {
   "cell_type": "markdown",
   "metadata": {},
   "source": [
    "##### with open()"
   ]
  },
  {
   "cell_type": "code",
   "execution_count": 2,
   "metadata": {},
   "outputs": [
    {
     "name": "stdout",
     "output_type": "stream",
     "text": [
      "Hawkins, Derek\tderek@codingtemple.com\t(555) 555-5555\tTeacher, Coding Temple\t@derekhawkins\n",
      "Zhai, Mo\tmozhai@codingtemple.com\t(555) 555-5554\tTeacher, Coding Temple\n",
      "Johnson, Joe\tjoejohnson@codingtemple.com\t\tJohson, Joe\n",
      "Osterberg, Sven-Erik\tgovernor@norrbotten.co.se\t\tGovernor, Norrbotten\t@sverik\n",
      ", Tim\ttim@killerrabbit.com\t\tEnchanter, Killer Rabbit Cave\n",
      "Butz, Ryan\tryanb@codingtemple.com\t(555) 555-5543\tCEO, Coding Temple\t@ryanbutz\n",
      "Doctor, The\tdoctor+companion@tardis.co.uk\t\tTime Lord, Gallifrey\n",
      "Exampleson, Example\tme@example.com\t555-555-5552\tExample, Example Co.\t@example\n",
      "Pael, Ripal\tripalp@codingtemple.com\t(555) 555-5553\tTeacher, Coding Temple\t@ripalp\n",
      "Vader, Darth\tdarth-vader@empire.gov\t(555) 555-4444\tSith Lord, Galactic Empire\t@darthvader\n",
      "Fernandez de la Vega Sanz, Maria Teresa\tmtfvs@spain.gov\t\tFirst Deputy Prime Minister, Spanish Gov\n",
      "\n"
     ]
    }
   ],
   "source": [
    "with open(\"names.txt\") as f:\n",
    "    data = f.read()\n",
    "    print(data)"
   ]
  },
  {
   "cell_type": "markdown",
   "metadata": {},
   "source": [
    "##### re.match()"
   ]
  },
  {
   "cell_type": "code",
   "execution_count": 144,
   "metadata": {},
   "outputs": [
    {
     "name": "stdout",
     "output_type": "stream",
     "text": [
      "Hawkins, Derek\tderek@codingtemple.com\t(555) 555-5555\tTeacher, Coding Temple\t@derekhawkins\n",
      "Zhai, Mo\tmozhai@codingtemple.com\t(555) 555-5554\tTeacher, Coding Temple\n",
      "Johnson, Joe\tjoejohnson@codingtemple.com\t\tJohson, Joe\n",
      "Osterberg, Sven-Erik\tgovernor@norrbotten.co.se\t\tGovernor, Norrbotten\t@sverik\n",
      ", Tim\ttim@killerrabbit.com\t\tEnchanter, Killer Rabbit Cave\n",
      "Butz, Ryan\tryanb@codingtemple.com\t(555) 555-5543\tCEO, Coding Temple\t@ryanbutz\n",
      "Doctor, The\tdoctor+companion@tardis.co.uk\t\tTime Lord, Gallifrey\n",
      "Exampleson, Example\tme@example.com\t555-555-5552\tExample, Example Co.\t@example\n",
      "Pael, Ripal\tripalp@codingtemple.com\t(555) 555-5553\tTeacher, Coding Temple\t@ripalp\n",
      "Vader, Darth\tdarth-vader@empire.gov\t(555) 555-4444\tSith Lord, Galactic Empire\t@darthvader\n",
      "Fernandez de la Vega Sanz, Maria Teresa\tmtfvs@spain.gov\t\tFirst Deputy Prime Minister, Spanish Gov\n",
      "\n",
      "None\n"
     ]
    }
   ],
   "source": [
    "print(data)\n",
    "\n",
    "\n",
    "person_pattern = re.compile(\"Vader, Darth\")\n",
    "found_person = person_pattern.match(data)\n",
    "print(found_person)\n",
    "\n",
    "person_pattern = re.compile(\"Vader, Darth\")\n",
    "found_person = person_pattern.match(data)\n",
    "print(found_person)"
   ]
  },
  {
   "cell_type": "markdown",
   "metadata": {},
   "source": [
    "##### re.search()"
   ]
  },
  {
   "cell_type": "code",
   "execution_count": 145,
   "metadata": {},
   "outputs": [
    {
     "name": "stdout",
     "output_type": "stream",
     "text": [
      "<re.Match object; span=(652, 664), match='Vader, Darth'>\n"
     ]
    }
   ],
   "source": [
    "print(re.search(\"Vader, Darth\", data))"
   ]
  },
  {
   "cell_type": "markdown",
   "metadata": {},
   "source": [
    "##### Store the String to a Variable"
   ]
  },
  {
   "cell_type": "code",
   "execution_count": 148,
   "metadata": {},
   "outputs": [
    {
     "name": "stdout",
     "output_type": "stream",
     "text": [
      "What would you like to search for? @\n",
      "I found your data: ['@', '@', '@', '@', '@', '@', '@', '@', '@', '@', '@', '@', '@', '@', '@', '@', '@']\n"
     ]
    }
   ],
   "source": [
    "answer = input(\"What would you like to search for? \")\n",
    "\n",
    "found = re.findall(answer, data)\n",
    "\n",
    "if found:\n",
    "    print(f\"I found your data: {found}\")\n",
    "else:\n",
    "    print(\"That person does not exist\")"
   ]
  },
  {
   "cell_type": "markdown",
   "metadata": {},
   "source": [
    "### In-Class Exercise #3 <br>\n",
    "<p>Print each persons name and twitter handle, using groups, should look like:</p>\n",
    "<p>==============<br>\n",
    "   Full Name / Twitter<br>\n",
    "   ==============</p>\n",
    "Derek Hawkins / @derekhawkins\n",
    "\n",
    " Erik Sven-Osterberg / @sverik\n",
    "\n",
    " Ryan Butz / @ryanbutz\n",
    "\n",
    " Example Exampleson / @example\n",
    "\n",
    " Ripal Pael / @ripalp\n",
    "\n",
    " Darth Vader / @darthvader"
   ]
  },
  {
   "cell_type": "code",
   "execution_count": 33,
   "metadata": {
    "scrolled": true
   },
   "outputs": [
    {
     "name": "stdout",
     "output_type": "stream",
     "text": [
      "Osterberg, Sven-Erik\tgovernor@norrbotten.co.se\t\tGovernor, Norrbotten\t@sverik\n",
      "\n",
      "['@sverik']\n"
     ]
    }
   ],
   "source": [
    "with open(\"names.txt\") as f:\n",
    "    data = f.readlines()\n",
    "    print(data[3])\n",
    "    \n",
    "pattern_names = re.compile(r\"\\B@[\\w]+\")\n",
    "found_name = pattern_names.findall(data[3])\n",
    "print(found_name)\n",
    "\n",
    "\n"
   ]
  },
  {
   "cell_type": "markdown",
   "metadata": {},
   "source": [
    "### Regex project\n",
    "\n",
    "Use python to read the file regex_test.txt and print the last name on each line using regular expressions and groups (return None for names with no first and last name, or names that aren't properly capitalized)\n",
    "##### Hint: use with open() and readlines()"
   ]
  },
  {
   "cell_type": "code",
   "execution_count": null,
   "metadata": {},
   "outputs": [],
   "source": [
    "\"\"\"\n",
    "Expected Output\n",
    "Abraham Lincoln\n",
    "Andrew P Garfield\n",
    "Connor Milliken\n",
    "Jordan Alexander Williams\n",
    "None\n",
    "None\n",
    "\"\"\""
   ]
  },
  {
   "cell_type": "code",
   "execution_count": null,
   "metadata": {},
   "outputs": [],
   "source": [
    "with open(\"regex_test.txt\") as new_file:\n",
    "    data = new_file.readlines()\n",
    "    for name in data:\n",
    "        name.split()\n",
    "        if len(name.split()) < 2 or name != name.title():\n",
    "            print(None)\n",
    "        else:\n",
    "            print(name)"
   ]
  }
 ],
 "metadata": {
  "kernelspec": {
   "display_name": "Python 3 (ipykernel)",
   "language": "python",
   "name": "python3"
  },
  "language_info": {
   "codemirror_mode": {
    "name": "ipython",
    "version": 3
   },
   "file_extension": ".py",
   "mimetype": "text/x-python",
   "name": "python",
   "nbconvert_exporter": "python",
   "pygments_lexer": "ipython3",
   "version": "3.11.5"
  }
 },
 "nbformat": 4,
 "nbformat_minor": 2
}
